{
 "cells": [
  {
   "cell_type": "markdown",
   "metadata": {},
   "source": [
    "# Research Methods <br>UHH - Knowledge Technology Research Group - WiSe 2022/2023\n",
    "## Assignment #3 - Multivariate EDA & Testing Procedures"
   ]
  },
  {
   "cell_type": "markdown",
   "metadata": {},
   "source": [
    "***\n",
    "### Group: \n",
    "### Names of members: \n",
    "\n",
    "***"
   ]
  },
  {
   "cell_type": "markdown",
   "metadata": {},
   "source": [
    "### Instructions:\n",
    "\n",
    "Please answer the questions below. Copy this notebook and enter your answers underneath each task description, inserting cells as needed. You may use a combination of [python 3](https://www.python.org), [markdown](http://jupyter-notebook.readthedocs.io/en/stable/examples/Notebook/Working%20With%20Markdown%20Cells.html), and [LaTex](https://towardsdatascience.com/write-markdown-latex-in-the-jupyter-notebook-10985edb91fd) to formulate your responses. In order to successfully complete the assignment, you will need the lecture material provided in the [RM moodle course](https://lernen.min.uni-hamburg.de/course/view.php?id=2637), especially L04 & L05.\n",
    "\n",
    "**Make sure to use only a copy of this notebook for your answers instead of a new/blank notebook.**\n",
    "\n",
    "### Grading Criteria:\n",
    "\n",
    "In order to successfully pass this assignment, you will need **at least a total of 70 points out of 100 points**, and every task has to be tackled.\n",
    "\n",
    "### Submission:\n",
    "\n",
    "Please upload the following two files **until Tuesday, November 22, 2022, 20:00 CET (Germany)** together in a .zip archive in moodle:\n",
    "1. a (single) copy of this jupyter notebook containing your answers for all tasks (file extension: .ipynb)\n",
    "2. an [exported PDF document](https://jupyterlab.readthedocs.io/en/stable/user/export.html) of the jupyter notebook (file extension: .pdf)\n",
    "\n",
    "### Presentation:\n",
    "\n",
    "Make sure that each (!) group member takes part in solving this assignment and is prepared to answer questions and/or present solutions from your submitted notebook during our assignment revision meeting scheduled for **Wednesday, November 30, 2022, 10:00 - 13:00 CET (Germany)**.\n",
    "\n",
    "### File Naming:\n",
    "\n",
    "Add the group letter to the file name prior to submission. For example, if your group letter is \"A\" (see group selection in moodle), you would use the following filename: \n",
    "1. RM_A03_Group_A.ipynb\n",
    "2. RM_A03_Group_A.pdf\n",
    "\n",
    "***\n",
    "***"
   ]
  },
  {
   "cell_type": "markdown",
   "metadata": {
    "pycharm": {
     "name": "#%% md\n"
    }
   },
   "source": [
    "As a reminder of how to present and be critical with your results in this assignment: \n",
    "\n",
    "**Imagine you are a member of a climate research committee. Fellow scientists, journalists, and politicians are interested in your results and your critical scientific evaluation.**"
   ]
  },
  {
   "cell_type": "markdown",
   "metadata": {},
   "source": [
    "#### Task 1 **[30 points] Correlation Analysis**\n",
    "\n",
    "For this task, your goal is to perform a correlation analysis on the statistical measurement \"[annual CO<sub>2</sub> emissions](https://ourworldindata.org/grapher/annual-co2-emissions-per-country?tab=chart&facet=none&country=~OWID_WRL)\" and statistical measurements \"mean temperature\" and \"precipitation\" from the CRU climate dataset (note that there is an updated extended version available in Moodle that contains world average data), with each year representing one data sample. You can download the data associated with the CO<sub>2</sub> emission plot using the link provided above (when accessing each URL, go to menu item _download_ right below the visualization plot).\n",
    "\n",
    "For this task, use data from the timespan 1961-2020 and the country/entity \"WORLD\" from the updated CRU dataset available in Moodle and the CO<sub>2</sub> emission data mentioned above.\n",
    "\n",
    "1. Download and import the CO<sub>2</sub> emission dataset and merge the values with the data from the CRU dataset (grouped by year). The result should be a dataframe that contains the annual CO<sub>2</sub> emissions as well as mean temperature and precipitation for each year from 1961 to 2020 worldwide.\n",
    "2. Create two scatter plots: One showing **cumulative** CO<sub>2</sub> emissions vs. mean temperature and the second showing **cumulative** CO<sub>2</sub> emissions vs. precipitation.\n",
    "3. Fit linear regression models to the data used in the scatter plots (e.g., using the [scikit learn library](https://scikit-learn.org/stable/index.html)) and add the two resulting regression lines to both scatter plots from the previous part of this task.\n",
    "4. Calculate the Pearson's correlation coefficient for the measurements used in both scatter plots respectively and explain your result briefly.\n",
    "5. Explain in your own words the following factors that have to be considered when interpreting a correlation coefficient: (A) non-linear relationship, (B) outliers, and (C) correlation vs. causality."
   ]
  },
  {
   "cell_type": "code",
   "execution_count": null,
   "metadata": {},
   "outputs": [],
   "source": []
  },
  {
   "cell_type": "markdown",
   "metadata": {},
   "source": [
    "#### Task 2 **[40 points] Time Series Analysis**\n",
    "\n",
    "Your goal for this task is to do a time series analysis on the monthly mean temperature in Germany using the CRU climate dataset.\n",
    "1. Plot a timeline of the monthly mean temperatures in Germany, starting with January 1961. Evaluate and interpret your plot.\n",
    "2. Perform a mean smoothing on the time series above and add the smoothed curve to the previous plot. Make sure the viewer can clearly recognize which line is the smoothed one. For the smoothing procedure, choose a window size $n$ that makes most sense to you. Explain and evaluate your choice briefly.\n",
    "3. Make yourself familiar with the [ARIMA model](https://towardsdatascience.com/understanding-arima-time-series-modeling-d99cd11be3f8) for time series modeling. Use the corresponding [ARIMA python package](https://www.statsmodels.org/stable/generated/statsmodels.tsa.arima.model.ARIMA.html) to predict future monthly temperatures in Germany. Plot both the model summary and a visualization of the predicted timeline (both of which the ARIMA package provides per default). Critically evaluate and explain your results.\n",
    "4. In time series analysis, there are four main features/components that we have to consider: (A) seasonal variation, (B) other cyclic variation, (C) secular trend, and (D) other irregular variations. For each of these features, explain its properties briefly, give an example scenario, and explain whether/how to handle it when working with time series data.   "
   ]
  },
  {
   "cell_type": "code",
   "execution_count": null,
   "metadata": {},
   "outputs": [],
   "source": []
  },
  {
   "cell_type": "markdown",
   "metadata": {},
   "source": [
    "#### Task 3 **[30 points] Hypothesis Testing**\n",
    "\n",
    "Imagine you want to determine whether global monthly mean temperatures are increasing using the number of warmer and colder months (with respect to the same month 50 years ago, as calculated in Assignment 2) as sample data.\n",
    "1. State hypotheses $H_0$ and $H_1$ and briefly evaluate whether they're testable and falsifiable.\n",
    "2. Define both type 1 ($\\alpha$) and type 2 ($\\beta$) error for the given hypotheses. What is the meaning and what would be the consequence of these errors given your hypotheses?\n",
    "3. Is the hypothesis test you would perform to answer the given question one-sided or two-sided? Briefly explain your choice.\n",
    "4. Define the term \"statistical power\" and its characteristics with respect to the given research question.\n",
    "5. Apart from the CO<sub>2</sub> emissions as explored in Task 1, which other extraneous factors may also influence the difference of monthly mean temperatures?"
   ]
  },
  {
   "cell_type": "code",
   "execution_count": null,
   "metadata": {},
   "outputs": [],
   "source": []
  }
 ],
 "metadata": {
  "kernelspec": {
   "display_name": "Python 3 (ipykernel)",
   "language": "python",
   "name": "python3"
  },
  "language_info": {
   "codemirror_mode": {
    "name": "ipython",
    "version": 3
   },
   "file_extension": ".py",
   "mimetype": "text/x-python",
   "name": "python",
   "nbconvert_exporter": "python",
   "pygments_lexer": "ipython3",
   "version": "3.9.6"
  }
 },
 "nbformat": 4,
 "nbformat_minor": 4
}